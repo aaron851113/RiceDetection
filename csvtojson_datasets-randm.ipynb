{
 "cells": [
  {
   "cell_type": "code",
   "execution_count": 57,
   "metadata": {},
   "outputs": [],
   "source": [
    "import glob\n",
    "import json\n",
    "import os\n",
    "import csv\n",
    "import pandas as pd\n",
    "import cv2\n",
    "import numpy as np\n",
    "from PIL import Image\n",
    "from  matplotlib import pyplot as plt"
   ]
  },
  {
   "cell_type": "code",
   "execution_count": 58,
   "metadata": {},
   "outputs": [],
   "source": [
    "# for split validation data\n",
    "from numpy import random"
   ]
  },
  {
   "cell_type": "code",
   "execution_count": 59,
   "metadata": {},
   "outputs": [],
   "source": [
    "file = open(os.path.join('./datasets/Rice/annotations', 'instances_train_randm5.json'), 'w')\n",
    "data = {}"
   ]
  },
  {
   "cell_type": "code",
   "execution_count": 60,
   "metadata": {},
   "outputs": [],
   "source": [
    "random_ratio = [ 1.2, 1.15, 1.1, 1.05, 1, 0.95, 0.9, 0.85, 0.8 ]"
   ]
  },
  {
   "cell_type": "code",
   "execution_count": 61,
   "metadata": {},
   "outputs": [],
   "source": [
    "data[\"categories\"] = []\n",
    "data[\"images\"] = []\n",
    "data[\"annotations\"] = []"
   ]
  },
  {
   "cell_type": "code",
   "execution_count": 62,
   "metadata": {},
   "outputs": [
    {
     "name": "stdout",
     "output_type": "stream",
     "text": [
      "{'categories': [{'id': 1, 'name': 'rice'}], 'images': [], 'annotations': []}\n"
     ]
    }
   ],
   "source": [
    "data[\"categories\"].append({\"id\":1,\"name\":\"rice\"})\n",
    "print(data)"
   ]
  },
  {
   "cell_type": "markdown",
   "metadata": {},
   "source": [
    "### Training folder to json"
   ]
  },
  {
   "cell_type": "code",
   "execution_count": 63,
   "metadata": {},
   "outputs": [
    {
     "name": "stdout",
     "output_type": "stream",
     "text": [
      "980\n"
     ]
    }
   ],
   "source": [
    "image_path = sorted(glob.glob('./datasets/Rice/train/*'))\n",
    "print(len(image_path))"
   ]
  },
  {
   "cell_type": "code",
   "execution_count": 64,
   "metadata": {},
   "outputs": [
    {
     "name": "stdout",
     "output_type": "stream",
     "text": [
      "id 0 file_name DSC080454 H:0 W:0.JPG\n",
      "id 1 file_name DSC080454 H:0 W:1.JPG\n",
      "id 2 file_name DSC080454 H:0 W:2.JPG\n",
      "id 3 file_name DSC080454 H:0 W:3.JPG\n",
      "id 4 file_name DSC080454 H:0 W:4.JPG\n"
     ]
    }
   ],
   "source": [
    "for i in range(len(image_path)):\n",
    "    path = image_path[i].split('/')\n",
    "    data[\"images\"].append({\"id\":i,\"file_name\":path[-1]})\n",
    "    if i < 5 :\n",
    "        print(\"id\",i,\"file_name\",path[-1])"
   ]
  },
  {
   "cell_type": "markdown",
   "metadata": {},
   "source": [
    "### Training annotations folder to json"
   ]
  },
  {
   "cell_type": "code",
   "execution_count": 65,
   "metadata": {},
   "outputs": [
    {
     "name": "stdout",
     "output_type": "stream",
     "text": [
      "980\n"
     ]
    }
   ],
   "source": [
    "csv_path = sorted(glob.glob('./datasets/Rice/train_labels/*'))\n",
    "print(len(csv_path))"
   ]
  },
  {
   "cell_type": "code",
   "execution_count": 66,
   "metadata": {},
   "outputs": [],
   "source": [
    "count = 0\n",
    "for i in range(len(csv_path)):\n",
    "    #print(csv_path[i],len(df))\n",
    "    try: \n",
    "        df = pd.read_csv(csv_path[i], header=None)\n",
    "    except: \n",
    "        continue \n",
    "        \n",
    "    img_path = csv_path[i][:-3]+'JPG'\n",
    "    img_path = img_path.replace('train_labels','train')\n",
    "    \n",
    "    #print(img_path, len(df))    \n",
    "    if len(df) > 200:\n",
    "        w, h = 15, 15 #13\n",
    "        \n",
    "    elif len(df) > 55:\n",
    "        w, h = 18 , 18 #15\n",
    "    else : \n",
    "        w, h = 45, 40 #35\n",
    "\n",
    "    for k in range(len(df)):\n",
    "        x,y = int(df.loc[k][0]), int(df.loc[k][1])\n",
    "        # x,y,w,h\n",
    "        randint1 = random.randint(1, len(random_ratio))\n",
    "        randint2 = random.randint(1, len(random_ratio))\n",
    "        img_w, img_h = w*random_ratio[randint1], h*random_ratio[randint2]\n",
    "        bbox = [x,y,img_w,img_h]\n",
    "        data[\"annotations\"].append({\"id\":count, \"image_id\":i, \"category_id\":1, \"iscrowd\":0, \"bbox\":bbox})\n",
    "        count+=1"
   ]
  },
  {
   "cell_type": "code",
   "execution_count": 67,
   "metadata": {},
   "outputs": [
    {
     "name": "stdout",
     "output_type": "stream",
     "text": [
      "annotations count : 45717\n"
     ]
    }
   ],
   "source": [
    "print(\"annotations count :\",count)"
   ]
  },
  {
   "cell_type": "code",
   "execution_count": 68,
   "metadata": {},
   "outputs": [],
   "source": [
    "json.dump(data, file)\n",
    "file.close()"
   ]
  },
  {
   "cell_type": "code",
   "execution_count": null,
   "metadata": {},
   "outputs": [],
   "source": []
  },
  {
   "cell_type": "code",
   "execution_count": 69,
   "metadata": {},
   "outputs": [],
   "source": [
    "annotation_path = './datasets/Rice/annotations/instances_train_randm5.json'\n",
    "f = open(annotation_path)\n",
    "data = json.load(f)\n",
    "\n",
    "for read_img_id in range(0,len(image_path)):\n",
    "    img_id, img_name = data['images'][read_img_id]['id'], data['images'][read_img_id]['file_name']\n",
    "    #print(img_id, img_name)\n",
    "    annotations_len = len(data['annotations'])\n",
    "    bboxs = []\n",
    "\n",
    "    for i in range(0,annotations_len):\n",
    "        if data['annotations'][i]['image_id'] != img_id : \n",
    "            continue\n",
    "        bboxs.append(data['annotations'][i]['bbox'])\n",
    "\n",
    "    img_path = os.path.join('./datasets/Rice/train',img_name)\n",
    "    img = Image.open(img_path, mode='r').convert('RGB')\n",
    "\n",
    "    out_img = cv2.cvtColor(np.array(img), cv2.COLOR_RGB2BGR)\n",
    "\n",
    "    for i in range(len(bboxs)):\n",
    "        x,y,w,h = int(bboxs[i][0]), int(bboxs[i][1]), int(bboxs[i][2]), int(bboxs[i][3])\n",
    "        x1,y1,x2,y2 = x-w, y-h, x+w, y+h\n",
    "        out_img = cv2.rectangle(out_img, (x1,y1), (x2,y2), (0, 0, 255), 2)\n",
    "\n",
    "    out_img = out_img[:,:,::-1] #BGR->RGB\n",
    "    plt.imsave('./observe_data/'+'randm_'+img_name[:-4]+'_observe.jpg',out_img)\n",
    "\n",
    "f.close()"
   ]
  },
  {
   "cell_type": "code",
   "execution_count": null,
   "metadata": {},
   "outputs": [],
   "source": []
  },
  {
   "cell_type": "code",
   "execution_count": null,
   "metadata": {},
   "outputs": [],
   "source": []
  }
 ],
 "metadata": {
  "kernelspec": {
   "display_name": "Python 3",
   "language": "python",
   "name": "python3"
  },
  "language_info": {
   "codemirror_mode": {
    "name": "ipython",
    "version": 3
   },
   "file_extension": ".py",
   "mimetype": "text/x-python",
   "name": "python",
   "nbconvert_exporter": "python",
   "pygments_lexer": "ipython3",
   "version": "3.7.4"
  }
 },
 "nbformat": 4,
 "nbformat_minor": 4
}
